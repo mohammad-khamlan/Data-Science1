{
 "cells": [
  {
   "cell_type": "code",
   "execution_count": 1,
   "metadata": {},
   "outputs": [],
   "source": [
    "word=open('words.txt','r')"
   ]
  },
  {
   "cell_type": "code",
   "execution_count": 2,
   "metadata": {},
   "outputs": [
    {
     "data": {
      "text/plain": [
       "<_io.TextIOWrapper name='words.txt' mode='r' encoding='cp1252'>"
      ]
     },
     "execution_count": 2,
     "metadata": {},
     "output_type": "execute_result"
    }
   ],
   "source": [
    "word"
   ]
  },
  {
   "cell_type": "code",
   "execution_count": 3,
   "metadata": {},
   "outputs": [],
   "source": [
    "wordlist=word.readlines()"
   ]
  },
  {
   "cell_type": "code",
   "execution_count": 4,
   "metadata": {},
   "outputs": [
    {
     "data": {
      "text/plain": [
       "['A\\n',\n",
       " 'a\\n',\n",
       " 'aa\\n',\n",
       " 'aal\\n',\n",
       " 'aalii\\n',\n",
       " 'aam\\n',\n",
       " 'Aani\\n',\n",
       " 'aardvark\\n',\n",
       " 'aardwolf\\n',\n",
       " 'Aaron\\n']"
      ]
     },
     "execution_count": 4,
     "metadata": {},
     "output_type": "execute_result"
    }
   ],
   "source": [
    "wordlist[:10]"
   ]
  },
  {
   "cell_type": "code",
   "execution_count": 5,
   "metadata": {},
   "outputs": [
    {
     "data": {
      "text/plain": [
       "235886"
      ]
     },
     "execution_count": 5,
     "metadata": {},
     "output_type": "execute_result"
    }
   ],
   "source": [
    "len(wordlist)"
   ]
  },
  {
   "cell_type": "code",
   "execution_count": 6,
   "metadata": {},
   "outputs": [
    {
     "data": {
      "text/plain": [
       "['a',\n",
       " 'a',\n",
       " 'aa',\n",
       " 'aal',\n",
       " 'aalii',\n",
       " 'aam',\n",
       " 'aani',\n",
       " 'aardvark',\n",
       " 'aardwolf',\n",
       " 'aaron']"
      ]
     },
     "execution_count": 6,
     "metadata": {},
     "output_type": "execute_result"
    }
   ],
   "source": [
    "wordclean=[word.strip().lower()for word in wordlist]\n",
    "wordclean[:10]"
   ]
  },
  {
   "cell_type": "code",
   "execution_count": 7,
   "metadata": {},
   "outputs": [],
   "source": [
    "wordunique=list(set(wordclean))"
   ]
  },
  {
   "cell_type": "code",
   "execution_count": 8,
   "metadata": {},
   "outputs": [
    {
     "data": {
      "text/plain": [
       "['rhotacistic',\n",
       " 'swing',\n",
       " 'superether',\n",
       " 'calorigenic',\n",
       " 'xylograph',\n",
       " 'fustanella',\n",
       " 'precalculation',\n",
       " 'alcibiadean',\n",
       " 'bunchiness',\n",
       " 'leud']"
      ]
     },
     "execution_count": 8,
     "metadata": {},
     "output_type": "execute_result"
    }
   ],
   "source": [
    "wordunique[:10]"
   ]
  },
  {
   "cell_type": "code",
   "execution_count": 9,
   "metadata": {},
   "outputs": [],
   "source": [
    "wordclean=[word.strip().lower()for word in open('words.txt','r')]"
   ]
  },
  {
   "cell_type": "code",
   "execution_count": null,
   "metadata": {},
   "outputs": [],
   "source": [
    "wordclean=sorted(list(set([word.strip().lower()for word in open('words.txt','r')])))"
   ]
  },
  {
   "cell_type": "code",
   "execution_count": null,
   "metadata": {},
   "outputs": [
    {
     "data": {
      "text/plain": [
       "['a',\n",
       " 'aa',\n",
       " 'aal',\n",
       " 'aalii',\n",
       " 'aam',\n",
       " 'aani',\n",
       " 'aardvark',\n",
       " 'aardwolf',\n",
       " 'aaron',\n",
       " 'aaronic']"
      ]
     },
     "execution_count": 11,
     "metadata": {},
     "output_type": "execute_result"
    }
   ],
   "source": [
    "wordclean[:10]"
   ]
  },
  {
   "cell_type": "code",
   "execution_count": null,
   "metadata": {},
   "outputs": [
    {
     "name": "stdout",
     "output_type": "stream",
     "text": [
      "levo\n",
      "love\n",
      "velo\n",
      "vole\n"
     ]
    }
   ],
   "source": [
    "word_1='love'\n",
    "\n",
    "for i in (wordclean):\n",
    "    if(sorted(word_1)==sorted(i)):\n",
    "     print(i)"
   ]
  },
  {
   "cell_type": "code",
   "execution_count": null,
   "metadata": {},
   "outputs": [
    {
     "name": "stdout",
     "output_type": "stream",
     "text": [
      "a\ta\n",
      "aa\taa\n",
      "aal\taal\n",
      "aal\tala\n",
      "aalii\taalii\n",
      "aam\taam\n",
      "aam\tama\n",
      "aani\taani\n",
      "aardvark\taardvark\n",
      "aardwolf\taardwolf\n",
      "aaron\taaron\n",
      "aaronic\taaronic\n",
      "aaronic\tnicarao\n",
      "aaronic\tocarina\n",
      "aaronical\taaronical\n",
      "aaronite\taaronite\n",
      "aaronite\taeration\n",
      "aaronitic\taaronitic\n",
      "aaru\taaru\n",
      "aaru\taura\n",
      "ab\tab\n",
      "ab\tba\n",
      "aba\taba\n",
      "aba\tbaa\n",
      "ababdeh\tababdeh\n",
      "ababua\tababua\n",
      "abac\tabac\n",
      "abac\tcaba\n",
      "abaca\tabaca\n",
      "abacate\tabacate\n",
      "abacay\tabacay\n",
      "abacinate\tabacinate\n",
      "abacination\tabacination\n",
      "abaciscus\tabaciscus\n",
      "abacist\tabacist\n",
      "aback\taback\n",
      "abactinal\tabactinal\n",
      "abactinally\tabactinally\n",
      "abaction\tabaction\n",
      "abactor\tabactor\n",
      "abactor\tacrobat\n",
      "abaculus\tabaculus\n",
      "abacus\tabacus\n",
      "abadite\tabadite\n",
      "abaff\tabaff\n",
      "abaft\tabaft\n",
      "abaft\tbafta\n",
      "abaisance\tabaisance\n",
      "abaiser\tabaiser\n",
      "abaissed\tabaissed\n",
      "abalienate\tabalienate\n",
      "abalienation\tabalienation\n",
      "abalone\tabalone\n",
      "abalone\tbalonea\n",
      "abama\tabama\n",
      "abampere\tabampere\n",
      "abandon\tabandon\n",
      "abandonable\tabandonable\n",
      "abandoned\tabandoned\n",
      "abandonedly\tabandonedly\n",
      "abandonee\tabandonee\n",
      "abandoner\tabandoner\n",
      "abandoner\treabandon\n",
      "abandonment\tabandonment\n",
      "abanic\tabanic\n",
      "abanic\tbianca\n",
      "abantes\tabantes\n",
      "abaptiston\tabaptiston\n",
      "abarambo\tabarambo\n",
      "abaris\tabaris\n",
      "abaris\tarabis\n",
      "abarthrosis\tabarthrosis\n",
      "abarticular\tabarticular\n",
      "abarticulation\tabarticulation\n",
      "abas\tabas\n",
      "abas\tsaba\n",
      "abase\tabase\n",
      "abased\tabased\n",
      "abasedly\tabasedly\n",
      "abasedness\tabasedness\n",
      "abasement\tabasement\n",
      "abaser\tabaser\n",
      "abaser\tabrase\n",
      "abasgi\tabasgi\n",
      "abash\tabash\n",
      "abashed\tabashed\n",
      "abashedly\tabashedly\n",
      "abashedness\tabashedness\n",
      "abashless\tabashless\n",
      "abashlessly\tabashlessly\n",
      "abashment\tabashment\n",
      "abasia\tabasia\n",
      "abasic\tabasic\n",
      "abask\tabask\n",
      "abassin\tabassin\n",
      "abastardize\tabastardize\n",
      "abatable\tabatable\n",
      "abate\tabate\n",
      "abate\tateba\n",
      "abate\tbatea\n",
      "abate\tbeata\n",
      "abatement\tabatement\n",
      "abater\tabater\n",
      "abater\tartabe\n",
      "abater\teartab\n",
      "abater\ttrabea\n",
      "abatis\tabatis\n",
      "abatised\tabatised\n",
      "abaton\tabaton\n",
      "abator\tabator\n",
      "abattoir\tabattoir\n"
     ]
    }
   ],
   "source": [
    "for i in (wordclean):\n",
    "    for j in (wordclean): \n",
    "        if(sorted(i)==sorted(j)):\n",
    "         print(i+'\\t'+j)"
   ]
  },
  {
   "cell_type": "code",
   "execution_count": null,
   "metadata": {},
   "outputs": [],
   "source": [
    "Dictionary={}\n",
    "\n",
    "for i in wordclean:\n",
    "    simplied=''.join(sorted(i)).lower()\n",
    "    if simplied in Dictionary:\n",
    "        Dictionary[simplied].append(i)\n",
    "    else:\n",
    "        Dictionary[simplied]=[i]\n",
    "        \n",
    "        \n",
    "groups=[]\n",
    "for i in Dictionary:\n",
    "    if len(Dictionary[i])>1:\n",
    "     groups.append(Dictionary[i])\n",
    "    "
   ]
  },
  {
   "cell_type": "code",
   "execution_count": null,
   "metadata": {},
   "outputs": [],
   "source": [
    "Dictionary_2={}\n",
    "for j in groups:\n",
    "    if len(j[0])in Dictionary_2:\n",
    "        Dictionary_2[len(j[0])].append(j)\n",
    "        \n",
    "    else:\n",
    "        Dictionary_2[len(j[0])]=[j]"
   ]
  },
  {
   "cell_type": "code",
   "execution_count": null,
   "metadata": {},
   "outputs": [],
   "source": [
    "Dictionary_2[5]"
   ]
  }
 ],
 "metadata": {
  "kernelspec": {
   "display_name": "Python 3",
   "language": "python",
   "name": "python3"
  },
  "language_info": {
   "codemirror_mode": {
    "name": "ipython",
    "version": 3
   },
   "file_extension": ".py",
   "mimetype": "text/x-python",
   "name": "python",
   "nbconvert_exporter": "python",
   "pygments_lexer": "ipython3",
   "version": "3.7.1"
  }
 },
 "nbformat": 4,
 "nbformat_minor": 2
}
